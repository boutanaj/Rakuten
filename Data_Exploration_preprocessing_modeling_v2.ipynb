{
 "cells": [
  {
   "cell_type": "code",
   "execution_count": 1,
   "id": "25ae6451-39c9-40ab-ad19-9cab9c34d73f",
   "metadata": {},
   "outputs": [],
   "source": [
    "import pandas as pd"
   ]
  },
  {
   "cell_type": "code",
   "execution_count": 2,
   "id": "32df7bac-0fc0-427f-8ef1-cb1396dbfbec",
   "metadata": {},
   "outputs": [],
   "source": [
    "df_Xtrain = pd.read_csv(\"Data/x_train_update.csv\")"
   ]
  },
  {
   "cell_type": "code",
   "execution_count": 3,
   "id": "7eb64e81-6bdb-4c71-85e7-ab0c5ab0320e",
   "metadata": {},
   "outputs": [
    {
     "data": {
      "text/html": [
       "<div>\n",
       "<style scoped>\n",
       "    .dataframe tbody tr th:only-of-type {\n",
       "        vertical-align: middle;\n",
       "    }\n",
       "\n",
       "    .dataframe tbody tr th {\n",
       "        vertical-align: top;\n",
       "    }\n",
       "\n",
       "    .dataframe thead th {\n",
       "        text-align: right;\n",
       "    }\n",
       "</style>\n",
       "<table border=\"1\" class=\"dataframe\">\n",
       "  <thead>\n",
       "    <tr style=\"text-align: right;\">\n",
       "      <th></th>\n",
       "      <th>Unnamed: 0</th>\n",
       "      <th>designation</th>\n",
       "      <th>description</th>\n",
       "      <th>productid</th>\n",
       "      <th>imageid</th>\n",
       "    </tr>\n",
       "  </thead>\n",
       "  <tbody>\n",
       "    <tr>\n",
       "      <th>0</th>\n",
       "      <td>0</td>\n",
       "      <td>Olivia: Personalisiertes Notizbuch / 150 Seite...</td>\n",
       "      <td>NaN</td>\n",
       "      <td>3804725264</td>\n",
       "      <td>1263597046</td>\n",
       "    </tr>\n",
       "    <tr>\n",
       "      <th>1</th>\n",
       "      <td>1</td>\n",
       "      <td>Journal Des Arts (Le) N° 133 Du 28/09/2001 - L...</td>\n",
       "      <td>NaN</td>\n",
       "      <td>436067568</td>\n",
       "      <td>1008141237</td>\n",
       "    </tr>\n",
       "    <tr>\n",
       "      <th>2</th>\n",
       "      <td>2</td>\n",
       "      <td>Grand Stylet Ergonomique Bleu Gamepad Nintendo...</td>\n",
       "      <td>PILOT STYLE Touch Pen de marque Speedlink est ...</td>\n",
       "      <td>201115110</td>\n",
       "      <td>938777978</td>\n",
       "    </tr>\n",
       "    <tr>\n",
       "      <th>3</th>\n",
       "      <td>3</td>\n",
       "      <td>Peluche Donald - Europe - Disneyland 2000 (Mar...</td>\n",
       "      <td>NaN</td>\n",
       "      <td>50418756</td>\n",
       "      <td>457047496</td>\n",
       "    </tr>\n",
       "    <tr>\n",
       "      <th>4</th>\n",
       "      <td>4</td>\n",
       "      <td>La Guerre Des Tuques</td>\n",
       "      <td>Luc a des id&amp;eacute;es de grandeur. Il veut or...</td>\n",
       "      <td>278535884</td>\n",
       "      <td>1077757786</td>\n",
       "    </tr>\n",
       "  </tbody>\n",
       "</table>\n",
       "</div>"
      ],
      "text/plain": [
       "   Unnamed: 0                                        designation  \\\n",
       "0           0  Olivia: Personalisiertes Notizbuch / 150 Seite...   \n",
       "1           1  Journal Des Arts (Le) N° 133 Du 28/09/2001 - L...   \n",
       "2           2  Grand Stylet Ergonomique Bleu Gamepad Nintendo...   \n",
       "3           3  Peluche Donald - Europe - Disneyland 2000 (Mar...   \n",
       "4           4                               La Guerre Des Tuques   \n",
       "\n",
       "                                         description   productid     imageid  \n",
       "0                                                NaN  3804725264  1263597046  \n",
       "1                                                NaN   436067568  1008141237  \n",
       "2  PILOT STYLE Touch Pen de marque Speedlink est ...   201115110   938777978  \n",
       "3                                                NaN    50418756   457047496  \n",
       "4  Luc a des id&eacute;es de grandeur. Il veut or...   278535884  1077757786  "
      ]
     },
     "execution_count": 3,
     "metadata": {},
     "output_type": "execute_result"
    }
   ],
   "source": [
    "df_Xtrain.head()"
   ]
  },
  {
   "cell_type": "code",
   "execution_count": 4,
   "id": "d05a8c50-7abb-437a-93a3-89ec963075b5",
   "metadata": {},
   "outputs": [
    {
     "data": {
      "text/plain": [
       "(84916, 5)"
      ]
     },
     "execution_count": 4,
     "metadata": {},
     "output_type": "execute_result"
    }
   ],
   "source": [
    "df_Xtrain.shape"
   ]
  },
  {
   "cell_type": "code",
   "execution_count": 5,
   "id": "5a4c5ab8-b35a-4c14-9d00-53bde78339db",
   "metadata": {},
   "outputs": [
    {
     "data": {
      "text/plain": [
       "Unnamed: 0         0\n",
       "designation        0\n",
       "description    29800\n",
       "productid          0\n",
       "imageid            0\n",
       "dtype: int64"
      ]
     },
     "execution_count": 5,
     "metadata": {},
     "output_type": "execute_result"
    }
   ],
   "source": [
    "df_Xtrain.isna().sum()"
   ]
  },
  {
   "cell_type": "code",
   "execution_count": null,
   "id": "56942308-e8ae-4c1d-8279-75a81bcc83ee",
   "metadata": {},
   "outputs": [],
   "source": []
  },
  {
   "cell_type": "code",
   "execution_count": null,
   "id": "727e8cc5-ae1c-4e05-b4fb-14b6a30556ea",
   "metadata": {},
   "outputs": [],
   "source": []
  },
  {
   "cell_type": "code",
   "execution_count": null,
   "id": "ed4f1963-22ad-4e96-b12e-8eb22b4701fc",
   "metadata": {},
   "outputs": [],
   "source": []
  },
  {
   "cell_type": "code",
   "execution_count": 6,
   "id": "8c35e7e4-0bde-4688-93b3-9a12bb25278a",
   "metadata": {},
   "outputs": [],
   "source": [
    "df_Xtest = pd.read_csv(\"Data/x_test_update.csv\")"
   ]
  },
  {
   "cell_type": "code",
   "execution_count": 7,
   "id": "fe120fca-1552-4590-830d-51bc290c570c",
   "metadata": {},
   "outputs": [
    {
     "data": {
      "text/html": [
       "<div>\n",
       "<style scoped>\n",
       "    .dataframe tbody tr th:only-of-type {\n",
       "        vertical-align: middle;\n",
       "    }\n",
       "\n",
       "    .dataframe tbody tr th {\n",
       "        vertical-align: top;\n",
       "    }\n",
       "\n",
       "    .dataframe thead th {\n",
       "        text-align: right;\n",
       "    }\n",
       "</style>\n",
       "<table border=\"1\" class=\"dataframe\">\n",
       "  <thead>\n",
       "    <tr style=\"text-align: right;\">\n",
       "      <th></th>\n",
       "      <th>Unnamed: 0</th>\n",
       "      <th>designation</th>\n",
       "      <th>description</th>\n",
       "      <th>productid</th>\n",
       "      <th>imageid</th>\n",
       "    </tr>\n",
       "  </thead>\n",
       "  <tbody>\n",
       "    <tr>\n",
       "      <th>0</th>\n",
       "      <td>84916</td>\n",
       "      <td>Folkmanis Puppets - 2732 - Marionnette Et Théâ...</td>\n",
       "      <td>NaN</td>\n",
       "      <td>516376098</td>\n",
       "      <td>1019294171</td>\n",
       "    </tr>\n",
       "    <tr>\n",
       "      <th>1</th>\n",
       "      <td>84917</td>\n",
       "      <td>Porte Flamme Gaxix - Flamebringer Gaxix - 136/...</td>\n",
       "      <td>NaN</td>\n",
       "      <td>133389013</td>\n",
       "      <td>1274228667</td>\n",
       "    </tr>\n",
       "    <tr>\n",
       "      <th>2</th>\n",
       "      <td>84918</td>\n",
       "      <td>Pompe de filtration Speck Badu 95</td>\n",
       "      <td>NaN</td>\n",
       "      <td>4128438366</td>\n",
       "      <td>1295960357</td>\n",
       "    </tr>\n",
       "    <tr>\n",
       "      <th>3</th>\n",
       "      <td>84919</td>\n",
       "      <td>Robot de piscine électrique</td>\n",
       "      <td>&lt;p&gt;Ce robot de piscine d&amp;#39;un design innovan...</td>\n",
       "      <td>3929899732</td>\n",
       "      <td>1265224052</td>\n",
       "    </tr>\n",
       "    <tr>\n",
       "      <th>4</th>\n",
       "      <td>84920</td>\n",
       "      <td>Hsm Destructeur Securio C16 Coupe Crois¿E: 4 X...</td>\n",
       "      <td>NaN</td>\n",
       "      <td>152993898</td>\n",
       "      <td>940543690</td>\n",
       "    </tr>\n",
       "  </tbody>\n",
       "</table>\n",
       "</div>"
      ],
      "text/plain": [
       "   Unnamed: 0                                        designation  \\\n",
       "0       84916  Folkmanis Puppets - 2732 - Marionnette Et Théâ...   \n",
       "1       84917  Porte Flamme Gaxix - Flamebringer Gaxix - 136/...   \n",
       "2       84918                  Pompe de filtration Speck Badu 95   \n",
       "3       84919                        Robot de piscine électrique   \n",
       "4       84920  Hsm Destructeur Securio C16 Coupe Crois¿E: 4 X...   \n",
       "\n",
       "                                         description   productid     imageid  \n",
       "0                                                NaN   516376098  1019294171  \n",
       "1                                                NaN   133389013  1274228667  \n",
       "2                                                NaN  4128438366  1295960357  \n",
       "3  <p>Ce robot de piscine d&#39;un design innovan...  3929899732  1265224052  \n",
       "4                                                NaN   152993898   940543690  "
      ]
     },
     "execution_count": 7,
     "metadata": {},
     "output_type": "execute_result"
    }
   ],
   "source": [
    "df_Xtest.head()"
   ]
  },
  {
   "cell_type": "code",
   "execution_count": 8,
   "id": "f9af7404-23d5-485d-a06f-3d0a53d42b3b",
   "metadata": {},
   "outputs": [
    {
     "data": {
      "text/plain": [
       "(13812, 5)"
      ]
     },
     "execution_count": 8,
     "metadata": {},
     "output_type": "execute_result"
    }
   ],
   "source": [
    "df_Xtest.shape"
   ]
  },
  {
   "cell_type": "code",
   "execution_count": 9,
   "id": "95888f8d-3110-4599-a271-30367c8bbe3d",
   "metadata": {},
   "outputs": [
    {
     "data": {
      "text/plain": [
       "Unnamed: 0        0\n",
       "designation       0\n",
       "description    4886\n",
       "productid         0\n",
       "imageid           0\n",
       "dtype: int64"
      ]
     },
     "execution_count": 9,
     "metadata": {},
     "output_type": "execute_result"
    }
   ],
   "source": [
    "df_Xtest.isna().sum()"
   ]
  },
  {
   "cell_type": "code",
   "execution_count": null,
   "id": "fa317c7a-eddc-4cf2-884f-572ba321c616",
   "metadata": {},
   "outputs": [],
   "source": []
  },
  {
   "cell_type": "code",
   "execution_count": 10,
   "id": "068563b7-6ed6-4f9a-94b7-fff512b770f5",
   "metadata": {},
   "outputs": [],
   "source": [
    "df_Ytrain = pd.read_csv(\"Data/Y_test.csv\")"
   ]
  },
  {
   "cell_type": "code",
   "execution_count": 11,
   "id": "83067b10-8d2e-4027-92e1-d4e73c07e0b3",
   "metadata": {},
   "outputs": [],
   "source": [
    "df_Ytest = pd.read_csv(\"Data/Y_train.csv\")"
   ]
  },
  {
   "cell_type": "code",
   "execution_count": 12,
   "id": "46213650-e621-4137-974a-a3e6a622f0f5",
   "metadata": {},
   "outputs": [
    {
     "data": {
      "text/plain": [
       "(13812, 2)"
      ]
     },
     "execution_count": 12,
     "metadata": {},
     "output_type": "execute_result"
    }
   ],
   "source": [
    "df_Ytrain.shape"
   ]
  },
  {
   "cell_type": "code",
   "execution_count": 13,
   "id": "1515a4a5-fff0-4ba9-817f-c794b93425bd",
   "metadata": {
    "scrolled": true
   },
   "outputs": [
    {
     "data": {
      "text/html": [
       "<div>\n",
       "<style scoped>\n",
       "    .dataframe tbody tr th:only-of-type {\n",
       "        vertical-align: middle;\n",
       "    }\n",
       "\n",
       "    .dataframe tbody tr th {\n",
       "        vertical-align: top;\n",
       "    }\n",
       "\n",
       "    .dataframe thead th {\n",
       "        text-align: right;\n",
       "    }\n",
       "</style>\n",
       "<table border=\"1\" class=\"dataframe\">\n",
       "  <thead>\n",
       "    <tr style=\"text-align: right;\">\n",
       "      <th></th>\n",
       "      <th>Unnamed: 0</th>\n",
       "      <th>prdtypecode</th>\n",
       "    </tr>\n",
       "  </thead>\n",
       "  <tbody>\n",
       "    <tr>\n",
       "      <th>0</th>\n",
       "      <td>84916</td>\n",
       "      <td>10</td>\n",
       "    </tr>\n",
       "    <tr>\n",
       "      <th>1</th>\n",
       "      <td>84917</td>\n",
       "      <td>10</td>\n",
       "    </tr>\n",
       "    <tr>\n",
       "      <th>2</th>\n",
       "      <td>84918</td>\n",
       "      <td>10</td>\n",
       "    </tr>\n",
       "    <tr>\n",
       "      <th>3</th>\n",
       "      <td>84919</td>\n",
       "      <td>10</td>\n",
       "    </tr>\n",
       "    <tr>\n",
       "      <th>4</th>\n",
       "      <td>84920</td>\n",
       "      <td>10</td>\n",
       "    </tr>\n",
       "  </tbody>\n",
       "</table>\n",
       "</div>"
      ],
      "text/plain": [
       "   Unnamed: 0  prdtypecode\n",
       "0       84916           10\n",
       "1       84917           10\n",
       "2       84918           10\n",
       "3       84919           10\n",
       "4       84920           10"
      ]
     },
     "execution_count": 13,
     "metadata": {},
     "output_type": "execute_result"
    }
   ],
   "source": [
    "df_Ytrain.head()"
   ]
  },
  {
   "cell_type": "code",
   "execution_count": 14,
   "id": "5907bb44-5970-4d6d-8622-9c14d026315f",
   "metadata": {},
   "outputs": [
    {
     "data": {
      "text/plain": [
       "Unnamed: 0     0\n",
       "prdtypecode    0\n",
       "dtype: int64"
      ]
     },
     "execution_count": 14,
     "metadata": {},
     "output_type": "execute_result"
    }
   ],
   "source": [
    "df_Ytrain.isna().sum()"
   ]
  },
  {
   "cell_type": "code",
   "execution_count": null,
   "id": "83eaf241-b9f7-4c67-878e-7885021c598d",
   "metadata": {},
   "outputs": [],
   "source": []
  },
  {
   "cell_type": "code",
   "execution_count": 15,
   "id": "bd91d3be-3542-4e7d-9b21-5e83210e6237",
   "metadata": {},
   "outputs": [
    {
     "data": {
      "text/plain": [
       "(84916, 2)"
      ]
     },
     "execution_count": 15,
     "metadata": {},
     "output_type": "execute_result"
    }
   ],
   "source": [
    "df_Ytest.shape"
   ]
  },
  {
   "cell_type": "code",
   "execution_count": 16,
   "id": "f1673a09-561f-40d4-83a5-3186286c85a4",
   "metadata": {},
   "outputs": [
    {
     "data": {
      "text/html": [
       "<div>\n",
       "<style scoped>\n",
       "    .dataframe tbody tr th:only-of-type {\n",
       "        vertical-align: middle;\n",
       "    }\n",
       "\n",
       "    .dataframe tbody tr th {\n",
       "        vertical-align: top;\n",
       "    }\n",
       "\n",
       "    .dataframe thead th {\n",
       "        text-align: right;\n",
       "    }\n",
       "</style>\n",
       "<table border=\"1\" class=\"dataframe\">\n",
       "  <thead>\n",
       "    <tr style=\"text-align: right;\">\n",
       "      <th></th>\n",
       "      <th>Unnamed: 0</th>\n",
       "      <th>prdtypecode</th>\n",
       "    </tr>\n",
       "  </thead>\n",
       "  <tbody>\n",
       "    <tr>\n",
       "      <th>0</th>\n",
       "      <td>0</td>\n",
       "      <td>10</td>\n",
       "    </tr>\n",
       "    <tr>\n",
       "      <th>1</th>\n",
       "      <td>1</td>\n",
       "      <td>2280</td>\n",
       "    </tr>\n",
       "    <tr>\n",
       "      <th>2</th>\n",
       "      <td>2</td>\n",
       "      <td>50</td>\n",
       "    </tr>\n",
       "    <tr>\n",
       "      <th>3</th>\n",
       "      <td>3</td>\n",
       "      <td>1280</td>\n",
       "    </tr>\n",
       "    <tr>\n",
       "      <th>4</th>\n",
       "      <td>4</td>\n",
       "      <td>2705</td>\n",
       "    </tr>\n",
       "  </tbody>\n",
       "</table>\n",
       "</div>"
      ],
      "text/plain": [
       "   Unnamed: 0  prdtypecode\n",
       "0           0           10\n",
       "1           1         2280\n",
       "2           2           50\n",
       "3           3         1280\n",
       "4           4         2705"
      ]
     },
     "execution_count": 16,
     "metadata": {},
     "output_type": "execute_result"
    }
   ],
   "source": [
    "df_Ytest.head()"
   ]
  },
  {
   "cell_type": "code",
   "execution_count": 17,
   "id": "52495f29-3f1b-478e-9567-c6fa7c5d18a4",
   "metadata": {},
   "outputs": [
    {
     "data": {
      "text/plain": [
       "Unnamed: 0     0\n",
       "prdtypecode    0\n",
       "dtype: int64"
      ]
     },
     "execution_count": 17,
     "metadata": {},
     "output_type": "execute_result"
    }
   ],
   "source": [
    "df_Ytest.isna().sum()"
   ]
  },
  {
   "cell_type": "code",
   "execution_count": null,
   "id": "02ac87da-2dd4-448e-8a18-cfd717ea676c",
   "metadata": {},
   "outputs": [],
   "source": []
  },
  {
   "cell_type": "code",
   "execution_count": null,
   "id": "755d03fa-b64e-48db-9059-b48dce77544c",
   "metadata": {},
   "outputs": [],
   "source": []
  },
  {
   "cell_type": "code",
   "execution_count": 18,
   "id": "20b732d1-cd4e-4837-994c-630ef3244c9e",
   "metadata": {},
   "outputs": [],
   "source": [
    "#df_Xtrain_image_sample1 = pd.read_csv(\"Data/images/image_train/image_528113_product_923222.jpg\")"
   ]
  },
  {
   "cell_type": "code",
   "execution_count": null,
   "id": "0cbb3a6b-d0f2-4b35-9983-c78f7a8e6695",
   "metadata": {},
   "outputs": [],
   "source": []
  },
  {
   "cell_type": "code",
   "execution_count": 19,
   "id": "e8cce237-deeb-4a39-854b-5368e0df4e21",
   "metadata": {},
   "outputs": [
    {
     "data": {
      "text/plain": [
       "Index(['Unnamed: 0', 'designation', 'description', 'productid', 'imageid'], dtype='object')"
      ]
     },
     "execution_count": 19,
     "metadata": {},
     "output_type": "execute_result"
    }
   ],
   "source": [
    "df_Xtrain.columns"
   ]
  },
  {
   "cell_type": "code",
   "execution_count": 20,
   "id": "31484a20-aca7-446c-8d58-ed2693b3b63e",
   "metadata": {},
   "outputs": [
    {
     "data": {
      "text/plain": [
       "Index(['Unnamed: 0', 'designation', 'description', 'productid', 'imageid'], dtype='object')"
      ]
     },
     "execution_count": 20,
     "metadata": {},
     "output_type": "execute_result"
    }
   ],
   "source": [
    "df_Xtest.columns"
   ]
  },
  {
   "cell_type": "code",
   "execution_count": 21,
   "id": "8569776d-687a-466e-ac13-1c5d164252a7",
   "metadata": {},
   "outputs": [
    {
     "data": {
      "text/plain": [
       "Index(['Unnamed: 0', 'prdtypecode'], dtype='object')"
      ]
     },
     "execution_count": 21,
     "metadata": {},
     "output_type": "execute_result"
    }
   ],
   "source": [
    "df_Ytrain.columns"
   ]
  },
  {
   "cell_type": "code",
   "execution_count": 22,
   "id": "e20d6840-5429-4712-850b-47fcead1545e",
   "metadata": {},
   "outputs": [
    {
     "data": {
      "text/plain": [
       "Index(['Unnamed: 0', 'prdtypecode'], dtype='object')"
      ]
     },
     "execution_count": 22,
     "metadata": {},
     "output_type": "execute_result"
    }
   ],
   "source": [
    "df_Ytest.columns"
   ]
  },
  {
   "cell_type": "code",
   "execution_count": null,
   "id": "536fbf9a-b37f-4462-a0bf-67ea33b1b815",
   "metadata": {},
   "outputs": [],
   "source": []
  },
  {
   "cell_type": "code",
   "execution_count": null,
   "id": "285d8faf-515f-40af-ac83-ddc8878a4596",
   "metadata": {},
   "outputs": [],
   "source": []
  },
  {
   "cell_type": "markdown",
   "id": "ca6319f9-f024-4c23-ab6f-ff2c69b3caf9",
   "metadata": {},
   "source": [
    "# utilisation de EfficientNetB0 et Random Forest"
   ]
  },
  {
   "cell_type": "code",
   "execution_count": 4,
   "id": "57664527-4c50-436a-9bd6-e715f967ebd5",
   "metadata": {},
   "outputs": [
    {
     "name": "stdout",
     "output_type": "stream",
     "text": [
      "Chargement des données...\n",
      "Données chargées avec succès !\n",
      "Traitement des valeurs manquantes...\n",
      "Fusion des datasets...\n",
      "Vectorisation des descriptions textuelles...\n",
      "Chargement du modèle CNN pour l'extraction des features...\n",
      "Extraction des features pour 2000 images...\n",
      "Nombre de vecteurs nuls : 2000\n",
      "Extraction des features pour 300 images...\n",
      "Nombre de vecteurs nuls : 300\n",
      "Réduction de dimension des features d'images...\n"
     ]
    },
    {
     "name": "stderr",
     "output_type": "stream",
     "text": [
      "C:\\Users\\a740407\\AppData\\Local\\anaconda3\\Lib\\site-packages\\sklearn\\decomposition\\_pca.py:685: RuntimeWarning: invalid value encountered in divide\n",
      "  self.explained_variance_ratio_ = self.explained_variance_ / total_var\n"
     ]
    },
    {
     "name": "stdout",
     "output_type": "stream",
     "text": [
      "Fusion des features texte et image...\n",
      "Création du pipeline et début de l'entraînement...\n",
      "Modèle entraîné en 6.77 secondes.\n",
      "Prédiction et évaluation du modèle...\n",
      "Précision du modèle : 0.2733\n"
     ]
    }
   ],
   "source": [
    "import os\n",
    "import time\n",
    "import numpy as np\n",
    "import pandas as pd\n",
    "from sklearn.ensemble import RandomForestClassifier\n",
    "from sklearn.metrics import accuracy_score\n",
    "from sklearn.feature_extraction.text import TfidfVectorizer\n",
    "from tensorflow.keras.applications import EfficientNetB0\n",
    "from tensorflow.keras.preprocessing import image\n",
    "from tensorflow.keras.applications.efficientnet import preprocess_input\n",
    "from tensorflow.keras.models import Model\n",
    "from sklearn.preprocessing import StandardScaler\n",
    "from sklearn.decomposition import PCA\n",
    "\n",
    "# ✅ Chargement des données\n",
    "print(\"Chargement des données...\")\n",
    "df_Xtrain = pd.read_csv(\"img2000/X_train.csv\")\n",
    "df_Xtest = pd.read_csv(\"img2000/X_test.csv\")\n",
    "df_Ytrain = pd.read_csv(\"img2000/Y_train.csv\")\n",
    "df_Ytest = pd.read_csv(\"img2000/Y_test.csv\")\n",
    "print(\"Données chargées avec succès !\")\n",
    "\n",
    "# ✅ Traitement des valeurs manquantes\n",
    "print(\"Traitement des valeurs manquantes...\")\n",
    "df_Xtrain['description'] = df_Xtrain['description'].fillna(\"aucune description\")\n",
    "df_Xtest['description'] = df_Xtest['description'].fillna(\"aucune description\")\n",
    "\n",
    "# ✅ Fusion des features avec les labels\n",
    "print(\"Fusion des datasets...\")\n",
    "df_train = df_Xtrain.merge(df_Ytrain, on=\"Unnamed: 0\").drop(columns=[\"Unnamed: 0\"])\n",
    "df_test = df_Xtest.merge(df_Ytest, on=\"Unnamed: 0\").drop(columns=[\"Unnamed: 0\"])\n",
    "\n",
    "# ✅ Extraction des features textuelles\n",
    "print(\"Vectorisation des descriptions textuelles...\")\n",
    "vectorizer = TfidfVectorizer(max_features=10000)\n",
    "X_train_text = vectorizer.fit_transform(df_train[\"description\"]).toarray()\n",
    "X_test_text = vectorizer.transform(df_test[\"description\"]).toarray()\n",
    "\n",
    "# ✅ Chargement du modèle de feature extraction d'images\n",
    "print(\"Chargement du modèle CNN pour l'extraction des features...\")\n",
    "base_model = EfficientNetB0(weights='imagenet', include_top=False, pooling='avg')\n",
    "model = Model(inputs=base_model.input, outputs=base_model.output)\n",
    "\n",
    "# ✅ Fonction d'extraction des features d'une image\n",
    "def extract_image_features(image_path):\n",
    "    try:\n",
    "        img = image.load_img(image_path, target_size=(224, 224))\n",
    "        img_array = image.img_to_array(img)\n",
    "        img_array = np.expand_dims(img_array, axis=0)\n",
    "        img_array = preprocess_input(img_array)\n",
    "        features = model.predict(img_array)\n",
    "        return features.flatten()\n",
    "    except:\n",
    "        return np.zeros((1280,))\n",
    "\n",
    "# ✅ Chargement des features des images\n",
    "def get_image_features(df, image_folder):\n",
    "    print(f\"Extraction des features pour {len(df)} images...\")\n",
    "    image_features = []\n",
    "    zero_count = 0\n",
    "    for img_id in df[\"imageid\"]:\n",
    "        img_path = os.path.join(image_folder, f\"{img_id}.jpg\")\n",
    "        features = extract_image_features(img_path)\n",
    "        if np.all(features == 0):\n",
    "            zero_count += 1\n",
    "        image_features.append(features)\n",
    "    print(f\"Nombre de vecteurs nuls : {zero_count}\")\n",
    "    return np.array(image_features)\n",
    "\n",
    "# ✅ Extraction des features d'images\n",
    "X_train_img = get_image_features(df_train, \"img2000/image_train\")\n",
    "X_test_img = get_image_features(df_test, \"img2000/image_test\")\n",
    "\n",
    "# ✅ Réduction de dimension des features d'images (optionnel)\n",
    "print(\"Réduction de dimension des features d'images...\")\n",
    "scaler = StandardScaler()\n",
    "pca = PCA(n_components=256)  # On réduit à 256 dimensions\n",
    "X_train_img = pca.fit_transform(scaler.fit_transform(X_train_img))\n",
    "X_test_img = pca.transform(scaler.transform(X_test_img))\n",
    "\n",
    "# ✅ Fusion des features textuelles et visuelles\n",
    "print(\"Fusion des features texte et image...\")\n",
    "X_train = np.hstack((X_train_text, X_train_img))\n",
    "X_test = np.hstack((X_test_text, X_test_img))\n",
    "\n",
    "# ✅ Définition du modèle de classification\n",
    "print(\"Création du pipeline et début de l'entraînement...\")\n",
    "classifier = RandomForestClassifier(n_estimators=200, random_state=42, n_jobs=-1)\n",
    "\n",
    "# ✅ Entraînement du modèle\n",
    "start_time = time.time()\n",
    "classifier.fit(X_train, df_train[\"prdtypecode\"])\n",
    "training_time = time.time() - start_time\n",
    "print(f\"Modèle entraîné en {training_time:.2f} secondes.\")\n",
    "\n",
    "# ✅ Prédictions et évaluation\n",
    "print(\"Prédiction et évaluation du modèle...\")\n",
    "y_pred = classifier.predict(X_test)\n",
    "accuracy = accuracy_score(df_test[\"prdtypecode\"], y_pred)\n",
    "print(f\"Précision du modèle : {accuracy:.4f}\")\n"
   ]
  },
  {
   "cell_type": "code",
   "execution_count": null,
   "id": "4951db16-546f-4ecf-870c-3d273cc4fe73",
   "metadata": {},
   "outputs": [],
   "source": []
  },
  {
   "cell_type": "code",
   "execution_count": null,
   "id": "3bd67741-d5fa-4384-be38-8946799fd6e5",
   "metadata": {},
   "outputs": [],
   "source": []
  },
  {
   "cell_type": "code",
   "execution_count": null,
   "id": "5ddc00e3-8953-4d0d-bba3-054584f9d326",
   "metadata": {},
   "outputs": [],
   "source": []
  },
  {
   "cell_type": "code",
   "execution_count": null,
   "id": "c0a290a4-a3aa-4995-8075-76a98090352c",
   "metadata": {},
   "outputs": [],
   "source": []
  },
  {
   "cell_type": "markdown",
   "id": "f65bd34d-c656-437c-9ef5-aef70a6a692a",
   "metadata": {},
   "source": [
    "# Utilisation de Restnet50 et XGBoost "
   ]
  },
  {
   "cell_type": "code",
   "execution_count": 1,
   "id": "ba0d8cdc-bed0-4338-8965-b135b1d3d13e",
   "metadata": {},
   "outputs": [
    {
     "name": "stdout",
     "output_type": "stream",
     "text": [
      "Chargement des données...\n",
      "Données chargées avec succès !\n",
      "Traitement des valeurs manquantes...\n",
      "Fusion des datasets...\n",
      "Vectorisation des descriptions textuelles...\n",
      "Chargement du modèle CNN pour l'extraction des features...\n",
      "Extraction des features pour 2000 images...\n",
      "Extraction des features pour 300 images...\n",
      "Réduction de dimension des features d'images...\n"
     ]
    },
    {
     "name": "stderr",
     "output_type": "stream",
     "text": [
      "C:\\Users\\a740407\\AppData\\Local\\anaconda3\\Lib\\site-packages\\sklearn\\decomposition\\_pca.py:685: RuntimeWarning: invalid value encountered in divide\n",
      "  self.explained_variance_ratio_ = self.explained_variance_ / total_var\n"
     ]
    },
    {
     "name": "stdout",
     "output_type": "stream",
     "text": [
      "Fusion des features texte et image...\n",
      "Création du modèle XGBoost et début de l'entraînement...\n",
      "Modèle entraîné en 80.91 secondes.\n",
      "Prédiction et évaluation du modèle...\n",
      "Précision du modèle : 0.0000\n",
      "Fin du processus ! 🎯\n"
     ]
    }
   ],
   "source": [
    "import os\n",
    "import time\n",
    "import numpy as np\n",
    "import pandas as pd\n",
    "from sklearn.pipeline import Pipeline\n",
    "from xgboost import XGBClassifier\n",
    "from sklearn.metrics import accuracy_score\n",
    "from sklearn.feature_extraction.text import TfidfVectorizer\n",
    "from tensorflow.keras.applications import ResNet50\n",
    "from tensorflow.keras.preprocessing import image\n",
    "from tensorflow.keras.applications.resnet50 import preprocess_input\n",
    "from tensorflow.keras.models import Model\n",
    "from sklearn.preprocessing import StandardScaler\n",
    "from sklearn.decomposition import PCA\n",
    "from sklearn.preprocessing import LabelEncoder\n",
    "\n",
    "\n",
    "# ✅ Chargement des données\n",
    "print(\"Chargement des données...\")\n",
    "df_Xtrain = pd.read_csv(\"img2000/X_train.csv\")\n",
    "df_Xtest = pd.read_csv(\"img2000/X_test.csv\")\n",
    "df_Ytrain = pd.read_csv(\"img2000/Y_train.csv\")\n",
    "df_Ytest = pd.read_csv(\"img2000/Y_test.csv\")\n",
    "print(\"Données chargées avec succès !\")\n",
    "\n",
    "# ✅ Traitement des valeurs manquantes\n",
    "print(\"Traitement des valeurs manquantes...\")\n",
    "df_Xtrain['description'] = df_Xtrain['description'].fillna(\"aucune description\")\n",
    "df_Xtest['description'] = df_Xtest['description'].fillna(\"aucune description\")\n",
    "\n",
    "# ✅ Fusion des features avec les labels\n",
    "print(\"Fusion des datasets...\")\n",
    "df_train = df_Xtrain.merge(df_Ytrain, on=\"Unnamed: 0\").drop(columns=[\"Unnamed: 0\"])\n",
    "df_test = df_Xtest.merge(df_Ytest, on=\"Unnamed: 0\").drop(columns=[\"Unnamed: 0\"])\n",
    "\n",
    "# ✅ Extraction des features textuelles\n",
    "print(\"Vectorisation des descriptions textuelles...\")\n",
    "vectorizer = TfidfVectorizer(max_features=10000)\n",
    "X_train_text = vectorizer.fit_transform(df_train[\"description\"]).toarray()\n",
    "X_test_text = vectorizer.transform(df_test[\"description\"]).toarray()\n",
    "\n",
    "# ✅ Chargement du modèle ResNet50 pour l'extraction des features\n",
    "print(\"Chargement du modèle CNN pour l'extraction des features...\")\n",
    "base_model = ResNet50(weights='resnet50_weights_tf_dim_ordering_tf_kernels_notop.h5', include_top=False, pooling='avg')\n",
    "model = Model(inputs=base_model.input, outputs=base_model.output)\n",
    "\n",
    "# ✅ Fonction d'extraction des features d'une image\n",
    "def extract_image_features(image_path):\n",
    "    try:\n",
    "        img = image.load_img(image_path, target_size=(224, 224))  \n",
    "        img_array = image.img_to_array(img)\n",
    "        img_array = np.expand_dims(img_array, axis=0)  \n",
    "        img_array = preprocess_input(img_array)  \n",
    "        features = model.predict(img_array)  \n",
    "        return features.flatten()\n",
    "    except:\n",
    "        return np.zeros((2048,))  # ResNet50 génère des features de taille 2048\n",
    "\n",
    "# ✅ Chargement des features des images\n",
    "def get_image_features(df, image_folder):\n",
    "    print(f\"Extraction des features pour {len(df)} images...\")\n",
    "    image_features = []\n",
    "    for img_id in df[\"imageid\"]:\n",
    "        img_path = os.path.join(image_folder, f\"{img_id}.jpg\")\n",
    "        image_features.append(extract_image_features(img_path))\n",
    "    return np.array(image_features)\n",
    "\n",
    "# ✅ Extraction des features d'images\n",
    "X_train_img = get_image_features(df_train, \"img2000/image_train\")\n",
    "X_test_img = get_image_features(df_test, \"img2000/image_test\")\n",
    "\n",
    "# ✅ Réduction de dimension des features d'images (optionnel)\n",
    "print(\"Réduction de dimension des features d'images...\")\n",
    "scaler = StandardScaler()\n",
    "pca = PCA(n_components=256)  # On réduit à 256 dimensions\n",
    "X_train_img = pca.fit_transform(scaler.fit_transform(X_train_img))\n",
    "X_test_img = pca.transform(scaler.transform(X_test_img))\n",
    "\n",
    "# ✅ Fusion des features texte et image\n",
    "print(\"Fusion des features texte et image...\")\n",
    "X_train = np.hstack((X_train_text, X_train_img))\n",
    "X_test = np.hstack((X_test_text, X_test_img))\n",
    "\n",
    "# ✅ Définition du modèle de classification XGBoost\n",
    "print(\"Création du modèle XGBoost et début de l'entraînement...\")\n",
    "classifier = XGBClassifier(n_estimators=200, learning_rate=0.1, max_depth=6, random_state=42, n_jobs=-1)\n",
    "\n",
    "# ✅ Encodage des labels pour les rendre continus\n",
    "label_encoder = LabelEncoder()\n",
    "df_train[\"encoded_label\"] = label_encoder.fit_transform(df_train[\"prdtypecode\"])\n",
    "df_test[\"encoded_label\"] = label_encoder.transform(df_test[\"prdtypecode\"])\n",
    "\n",
    "# ✅ Mise à jour des labels pour XGBoost\n",
    "y_train = df_train[\"encoded_label\"]\n",
    "y_test = df_test[\"encoded_label\"]\n",
    "\n",
    "# ✅ Entraînement du modèle\n",
    "start_time = time.time()\n",
    "classifier.fit(X_train, y_train)\n",
    "training_time = time.time() - start_time\n",
    "print(f\"Modèle entraîné en {training_time:.2f} secondes.\")\n",
    "\n",
    "# ✅ Prédictions et évaluation\n",
    "print(\"Prédiction et évaluation du modèle...\")\n",
    "y_pred = classifier.predict(X_test)\n",
    "accuracy = accuracy_score(df_test[\"prdtypecode\"], y_pred)\n",
    "print(f\"Précision du modèle : {accuracy:.4f}\")\n",
    "\n",
    "print(\"Fin du processus ! 🎯\")\n"
   ]
  },
  {
   "cell_type": "code",
   "execution_count": null,
   "id": "828eab51-4c43-4bb3-b123-46744b97a6da",
   "metadata": {},
   "outputs": [],
   "source": []
  },
  {
   "cell_type": "code",
   "execution_count": null,
   "id": "fbd5403a-b317-40a1-b197-77bc7797e4fd",
   "metadata": {},
   "outputs": [],
   "source": []
  },
  {
   "cell_type": "code",
   "execution_count": null,
   "id": "6db66003-e9b8-4233-806a-0478bc18224f",
   "metadata": {},
   "outputs": [],
   "source": []
  },
  {
   "cell_type": "code",
   "execution_count": null,
   "id": "7a666b0d-0efb-43ba-91a1-283f69151263",
   "metadata": {},
   "outputs": [],
   "source": []
  },
  {
   "cell_type": "code",
   "execution_count": null,
   "id": "3267754b-780d-4bf5-bffc-7f12b01b2990",
   "metadata": {},
   "outputs": [],
   "source": []
  },
  {
   "cell_type": "code",
   "execution_count": null,
   "id": "783493ff-c72c-413d-8b57-24c758aa4a98",
   "metadata": {},
   "outputs": [],
   "source": []
  },
  {
   "cell_type": "code",
   "execution_count": null,
   "id": "a1d9b3f8-3f72-48a6-afcc-69b0c12a47a1",
   "metadata": {},
   "outputs": [],
   "source": []
  },
  {
   "cell_type": "code",
   "execution_count": null,
   "id": "80843313-554c-4966-888e-7020cb8bb66e",
   "metadata": {},
   "outputs": [],
   "source": []
  },
  {
   "cell_type": "code",
   "execution_count": null,
   "id": "ac08ec11-537c-4561-817a-5f3d1a821d0d",
   "metadata": {},
   "outputs": [],
   "source": []
  },
  {
   "cell_type": "code",
   "execution_count": null,
   "id": "4183cf08-8d2f-4264-a54c-3ac826b7caaf",
   "metadata": {},
   "outputs": [],
   "source": []
  },
  {
   "cell_type": "code",
   "execution_count": null,
   "id": "c61af898-2f04-48a1-9f46-39231f985204",
   "metadata": {},
   "outputs": [],
   "source": []
  },
  {
   "cell_type": "code",
   "execution_count": null,
   "id": "50c66b3e-27ee-4b9d-890c-444a232c92c4",
   "metadata": {},
   "outputs": [],
   "source": []
  },
  {
   "cell_type": "code",
   "execution_count": null,
   "id": "7aab6c16-266e-4b8d-8aef-70e6d2d8edc7",
   "metadata": {},
   "outputs": [],
   "source": []
  },
  {
   "cell_type": "code",
   "execution_count": null,
   "id": "a46ed733-a379-4ca3-a321-6fdd95339d90",
   "metadata": {},
   "outputs": [],
   "source": []
  },
  {
   "cell_type": "code",
   "execution_count": null,
   "id": "4844e853-7af7-4219-afd0-ff6690621df9",
   "metadata": {},
   "outputs": [],
   "source": []
  },
  {
   "cell_type": "code",
   "execution_count": null,
   "id": "dc7802a3-28b3-4450-bd4d-77181d4fb0c2",
   "metadata": {},
   "outputs": [],
   "source": []
  },
  {
   "cell_type": "code",
   "execution_count": null,
   "id": "2afe463e-8631-4e21-82e1-a03c6818b666",
   "metadata": {},
   "outputs": [],
   "source": []
  },
  {
   "cell_type": "code",
   "execution_count": null,
   "id": "c503f470-75b5-4ffe-9edc-22f755badb7f",
   "metadata": {},
   "outputs": [],
   "source": []
  },
  {
   "cell_type": "code",
   "execution_count": null,
   "id": "0f8b4ad8-fb15-4a3d-9f4f-55e74726e6bb",
   "metadata": {},
   "outputs": [],
   "source": []
  },
  {
   "cell_type": "code",
   "execution_count": null,
   "id": "c7b0a682-5884-4396-b9d3-6bd76aff9d6a",
   "metadata": {},
   "outputs": [],
   "source": []
  },
  {
   "cell_type": "code",
   "execution_count": null,
   "id": "c069d85d-3a90-4aa4-8e0f-eb105a16b598",
   "metadata": {},
   "outputs": [],
   "source": []
  },
  {
   "cell_type": "code",
   "execution_count": null,
   "id": "3546482c-39a3-42bf-ba13-5eedc902d969",
   "metadata": {},
   "outputs": [],
   "source": []
  },
  {
   "cell_type": "code",
   "execution_count": null,
   "id": "48f43ed1-000c-442d-98ce-2da1a6ae172a",
   "metadata": {},
   "outputs": [],
   "source": []
  },
  {
   "cell_type": "code",
   "execution_count": null,
   "id": "aa056759-1644-4779-8d69-db8b4a3116bc",
   "metadata": {},
   "outputs": [],
   "source": []
  },
  {
   "cell_type": "code",
   "execution_count": null,
   "id": "31f0d85a-10f7-4fe3-8362-da284e5cbfab",
   "metadata": {},
   "outputs": [],
   "source": []
  },
  {
   "cell_type": "code",
   "execution_count": null,
   "id": "efc4e3e1-d04a-4f95-8434-a1f9185e08c0",
   "metadata": {},
   "outputs": [],
   "source": []
  },
  {
   "cell_type": "code",
   "execution_count": null,
   "id": "11b944c0-3c94-4211-8b9c-5d7d7f84d0d3",
   "metadata": {},
   "outputs": [],
   "source": []
  },
  {
   "cell_type": "code",
   "execution_count": null,
   "id": "7e6db2a1-71fb-466d-83b5-a83b2e112220",
   "metadata": {},
   "outputs": [],
   "source": []
  }
 ],
 "metadata": {
  "kernelspec": {
   "display_name": "Python 3 (ipykernel)",
   "language": "python",
   "name": "python3"
  },
  "language_info": {
   "codemirror_mode": {
    "name": "ipython",
    "version": 3
   },
   "file_extension": ".py",
   "mimetype": "text/x-python",
   "name": "python",
   "nbconvert_exporter": "python",
   "pygments_lexer": "ipython3",
   "version": "3.11.5"
  }
 },
 "nbformat": 4,
 "nbformat_minor": 5
}
